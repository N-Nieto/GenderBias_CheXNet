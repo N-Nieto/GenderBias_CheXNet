{
 "cells": [
  {
   "cell_type": "markdown",
   "metadata": {},
   "source": [
    "### FILTRADO BASE DE DATOS"
   ]
  },
  {
   "cell_type": "code",
   "execution_count": 1,
   "metadata": {},
   "outputs": [
    {
     "data": {
      "text/plain": [
       "(112120, 25)"
      ]
     },
     "execution_count": 1,
     "metadata": {},
     "output_type": "execute_result"
    }
   ],
   "source": [
    "import pandas as pd\n",
    "import seaborn as sns\n",
    "import numpy as np\n",
    "\n",
    "# Levanto la base de datos completa\n",
    "data = pd.read_csv(\"/media/eferrante/Data/Code/genderbias/CheXNet-Keras-enzo/data/Data_Entry_2017_with_oneHot.csv\") \n",
    "\n",
    "data.shape"
   ]
  },
  {
   "cell_type": "markdown",
   "metadata": {},
   "source": [
    "# Distribucion de Género original"
   ]
  },
  {
   "cell_type": "code",
   "execution_count": 2,
   "metadata": {},
   "outputs": [
    {
     "data": {
      "image/png": "[encoded data removed]",
      "text/plain": [
       "<Figure size 360x360 with 1 Axes>"
      ]
     },
     "metadata": {
      "needs_background": "light"
     },
     "output_type": "display_data"
    }
   ],
   "source": [
    "# Histograma de género\n",
    "sns.catplot(x=\"Patient Gender\", kind=\"count\", data=data);\n"
   ]
  },
  {
   "cell_type": "markdown",
   "metadata": {},
   "source": [
    "# Create a dataset where every pathology is \"balanced\" by gender\n",
    "First check the original gender unbalance per pathology"
   ]
  },
  {
   "cell_type": "code",
   "execution_count": 3,
   "metadata": {},
   "outputs": [
    {
     "name": "stdout",
     "output_type": "stream",
     "text": [
      "Hernia 131 96\n",
      "Pneumonia 593 838\n",
      "Fibrosis 771 915\n",
      "Emphysema 906 1610\n",
      "Edema 1099 1204\n",
      "Cardiomegaly 1469 1307\n",
      "Pleural_Thickening 1343 2042\n",
      "Consolidation 2001 2666\n",
      "Mass 2253 3529\n",
      "Pneumothorax 2585 2717\n",
      "Nodule 2646 3685\n",
      "Atelectasis 4653 6906\n",
      "Effusion 5882 7435\n",
      "Infiltration 8467 11427\n"
     ]
    }
   ],
   "source": [
    "illness=['Hernia','Pneumonia','Fibrosis','Emphysema','Edema','Cardiomegaly','Pleural_Thickening','Consolidation','Mass','Pneumothorax','Nodule','Atelectasis','Effusion','Infiltration']\n",
    "data_female=data[data['Patient Gender'] == 'F']\n",
    "data_male=data[data['Patient Gender'] == 'M']\n",
    "\n",
    "for ill in illness:\n",
    "        # Encuentro la cantidad de mujeres con esta enfermedad  \n",
    "        data_faux=data_female[data_female[ill] == 1]\n",
    "        canf=len(data_faux)\n",
    "        # Encuentro la cantidad de hombres con esta enfermedad\n",
    "        data_maux=data_male[data_male[ill] == 1]\n",
    "        canm=len(data_maux)\n",
    "        # Me quedo con aquel que tenga menor cantidad\n",
    "        min_cant=np.min([canf,canm])\n",
    "        # Muestro la enfermedad y la cantidad de imagenes por genero que agrego\n",
    "        print (ill,canf,canm)    \n",
    "            \n",
    "            "
   ]
  },
  {
   "cell_type": "markdown",
   "metadata": {},
   "source": [
    "## Then, we filter and to try balance every pathology independently"
   ]
  },
  {
   "cell_type": "code",
   "execution_count": 4,
   "metadata": {},
   "outputs": [
    {
     "name": "stdout",
     "output_type": "stream",
     "text": [
      "\n",
      "**** Before balancing ****\n",
      "\n",
      "*******************************\n",
      "Pathology Female Male\n",
      "*******************************\n",
      "\n",
      "Hernia 131 96\n",
      "Pneumonia 593 838\n",
      "Fibrosis 771 915\n",
      "Emphysema 906 1610\n",
      "Edema 1099 1204\n",
      "Cardiomegaly 1469 1307\n",
      "Pleural_Thickening 1343 2042\n",
      "Consolidation 2001 2666\n",
      "Mass 2253 3529\n",
      "Pneumothorax 2585 2717\n",
      "Nodule 2646 3685\n",
      "Atelectasis 4653 6906\n",
      "Effusion 5882 7435\n",
      "Infiltration 8467 11427\n",
      "\n",
      "**** After balancing ****\n",
      "\n",
      "*******************************\n",
      "Pathology Female Male\n",
      "*******************************\n",
      "\n",
      "Hernia 111 96\n",
      "Pneumonia 593 741\n",
      "Fibrosis 771 839\n",
      "Emphysema 906 1312\n",
      "Edema 1099 1161\n",
      "Cardiomegaly 1403 1307\n",
      "Pleural_Thickening 1343 1751\n",
      "Consolidation 2001 2392\n",
      "Mass 2253 2915\n",
      "Pneumothorax 2585 2652\n",
      "Nodule 2646 3130\n",
      "Atelectasis 4653 5833\n",
      "Effusion 5882 6818\n",
      "Infiltration 8467 9779\n",
      "\n",
      "**** After balancing ****\n",
      "\n",
      "Cantidad de totales\n",
      "(63575, 25)\n",
      "Chequeo no tener imagenes repetidas\n",
      "(63575, 25)\n",
      "Cantidad de imagenes de sujetos sanos\n",
      "(16934, 25)\n",
      "Cantidad de imagenes de sujetos enfermos\n",
      "(46641, 25)\n",
      "Cantidad de hombres\n",
      "32853\n",
      "Cantidad de mujeres\n",
      "30722\n"
     ]
    }
   ],
   "source": [
    "# Selecciono las imagenes, priorizando aquellas enfermedades que menor cantidad de imagenes tiene\n",
    "max_ill= 0\n",
    "i=0 \n",
    "\n",
    "print(\"\\n**** Before balancing ****\")\n",
    "print(\"\\n*******************************\")\n",
    "print(\"Pathology\", \"Female\", \"Male\")\n",
    "print(\"*******************************\\n\")\n",
    "\n",
    "#Enfermedades\n",
    "for ill in illness:\n",
    "        # Encuentro la cantidad de mujeres con esta enfermedad  \n",
    "        data_faux=data_female[data_female[ill] == 1]\n",
    "        canf=len(data_faux)\n",
    "        # Encuentro la cantidad de hombres con esta enfermedad\n",
    "        data_maux=data_male[data_male[ill] == 1]\n",
    "        canm=len(data_maux)\n",
    "        # Me quedo con aquel que tenga menor cantidad\n",
    "        min_cant=np.min([canf,canm])\n",
    "        # Muestro la enfermedad y la cantidad de imagenes por genero que agrego\n",
    "        #print (ill,min_cant)\n",
    "        print (ill,canf,canm)       \n",
    "\n",
    "        if i==0: \n",
    "            females=data_faux.sample(n=min_cant) \n",
    "            males=data_maux.sample(n=min_cant)\n",
    "            \n",
    "        else:    \n",
    "            # Concateno las imagenes de cada enfermedad\n",
    "            males=pd.concat([males,data_maux.sample(n=min_cant)])\n",
    "            females=pd.concat([females,data_faux.sample(n=min_cant)])\n",
    "            # Me aseguro de no incluir dos veces la misma imagen por enfermedad\n",
    "            males=males.drop_duplicates(subset=\"Image Index\", keep='first')\n",
    "            females=females.drop_duplicates(subset=\"Image Index\", keep='first')\n",
    "        i=i+1\n",
    "\n",
    "    \n",
    "# Concateno todas las enfermedades\n",
    "data_ill=pd.concat([males,females])\n",
    "print(\"\\n**** After balancing ****\")\n",
    "print(\"\\n*******************************\")\n",
    "print(\"Pathology\", \"Female\", \"Male\")\n",
    "print(\"*******************************\\n\")\n",
    "\n",
    "for ill in illness:\n",
    "        # Encuentro la cantidad de mujeres con esta enfermedad  \n",
    "        data_faux=females[females[ill] == 1]\n",
    "        canf=len(data_faux)\n",
    "        # Encuentro la cantidad de hombres con esta enfermedad\n",
    "        data_maux=males[males[ill] == 1]\n",
    "        canm=len(data_maux)\n",
    "        # Me quedo con aquel que tenga menor cantidad\n",
    "        min_cant=np.min([canf,canm])\n",
    "        # Muestro la enfermedad y la cantidad de imagenes por genero que agrego\n",
    "        print (ill,canf,canm)       \n",
    "        max_ill = np.max([max_ill,min_cant])\n",
    "        \n",
    "# Separo todos los sujetos sanos\n",
    "data_h=data[data['Finding Labels'] == 'No Finding']  \n",
    "\n",
    "# Separo por género\n",
    "data_female_h=data_h[data_h['Patient Gender'] == 'F']\n",
    "data_male_h=data_h[data_h['Patient Gender'] == 'M']\n",
    "\n",
    "canf=len(data_female_h)\n",
    "canm=len(data_male_h)\n",
    "\n",
    "# Me quedo con aquel que tenga menor cantidad por género\n",
    "min_cant=np.min([canf,canm])\n",
    "\n",
    "# Selecciono si elimino por género o por cantidad máxima \n",
    "min_cant=np.min([min_cant,max_ill])\n",
    "\n",
    "data_female_h=data_female_h.sample(n=min_cant)\n",
    "data_male_h=data_male_h.sample(n=min_cant)\n",
    "\n",
    "data_h=pd.concat([data_female_h,data_male_h])\n",
    "\n",
    "data_final=pd.concat([data_ill,data_h])\n",
    "#data_final=data_ill\n",
    "\n",
    "print( \"\\n**** After balancing ****\\n\")\n",
    "\n",
    "print('Cantidad de totales')\n",
    "print(data_final.shape)\n",
    "\n",
    "print('Chequeo no tener imagenes repetidas')\n",
    "data_final_aux=data_final.drop_duplicates(subset=\"Image Index\",keep='first')\n",
    "print(data_final_aux.shape)\n",
    "\n",
    "print('Cantidad de imagenes de sujetos sanos')\n",
    "print(data_h.shape)\n",
    "\n",
    "print('Cantidad de imagenes de sujetos enfermos')\n",
    "print(data_ill.shape)\n",
    "\n",
    "print('Cantidad de hombres')\n",
    "print(len(data_final[data_final['Patient Gender'] == 'M']))\n",
    "\n",
    "print('Cantidad de mujeres')\n",
    "print(len(data_final[data_final['Patient Gender'] == 'F']))\n",
    "\n"
   ]
  },
  {
   "cell_type": "markdown",
   "metadata": {},
   "source": [
    "## Now we create the training, val and test folds"
   ]
  },
  {
   "cell_type": "code",
   "execution_count": 7,
   "metadata": {},
   "outputs": [
    {
     "name": "stdout",
     "output_type": "stream",
     "text": [
      "*****************************************************************\n",
      "Saving folds for **M** to : ./experiments/all_pathologies_20_runs_no_healty/\n",
      "*****************************************************************\n",
      "\n",
      "Generating fold 0\n",
      "- Estimated fold sizes -> train: 16990, val: 2427, test 4854\n",
      "- Final fold sizes -> train: 16991, val: 2431, test 4850\n",
      "Generating fold 1\n",
      "- Estimated fold sizes -> train: 16990, val: 2427, test 4854\n",
      "- Final fold sizes -> train: 16991, val: 2429, test 4852\n",
      "Generating fold 2\n",
      "- Estimated fold sizes -> train: 16990, val: 2427, test 4854\n",
      "- Final fold sizes -> train: 16999, val: 2429, test 4844\n",
      "Generating fold 3\n",
      "- Estimated fold sizes -> train: 16990, val: 2427, test 4854\n",
      "- Final fold sizes -> train: 16992, val: 2428, test 4852\n",
      "Generating fold 4\n",
      "- Estimated fold sizes -> train: 16990, val: 2427, test 4854\n",
      "- Final fold sizes -> train: 16994, val: 2428, test 4850\n",
      "Generating fold 5\n",
      "- Estimated fold sizes -> train: 16990, val: 2427, test 4854\n",
      "- Final fold sizes -> train: 16991, val: 2433, test 4848\n",
      "Generating fold 6\n",
      "- Estimated fold sizes -> train: 16990, val: 2427, test 4854\n",
      "- Final fold sizes -> train: 16992, val: 2428, test 4852\n",
      "Generating fold 7\n",
      "- Estimated fold sizes -> train: 16990, val: 2427, test 4854\n",
      "- Final fold sizes -> train: 16994, val: 2428, test 4850\n",
      "Generating fold 8\n",
      "- Estimated fold sizes -> train: 16990, val: 2427, test 4854\n",
      "- Final fold sizes -> train: 16992, val: 2431, test 4849\n",
      "Generating fold 9\n",
      "- Estimated fold sizes -> train: 16990, val: 2427, test 4854\n",
      "- Final fold sizes -> train: 16995, val: 2428, test 4849\n",
      "Generating fold 10\n",
      "- Estimated fold sizes -> train: 16990, val: 2427, test 4854\n",
      "- Final fold sizes -> train: 16993, val: 2434, test 4845\n",
      "Generating fold 11\n",
      "- Estimated fold sizes -> train: 16990, val: 2427, test 4854\n",
      "- Final fold sizes -> train: 16991, val: 2428, test 4853\n",
      "Generating fold 12\n",
      "- Estimated fold sizes -> train: 16990, val: 2427, test 4854\n",
      "- Final fold sizes -> train: 16993, val: 2430, test 4849\n",
      "Generating fold 13\n",
      "- Estimated fold sizes -> train: 16990, val: 2427, test 4854\n",
      "- Final fold sizes -> train: 16992, val: 2428, test 4852\n",
      "Generating fold 14\n",
      "- Estimated fold sizes -> train: 16990, val: 2427, test 4854\n",
      "- Final fold sizes -> train: 16993, val: 2429, test 4850\n",
      "Generating fold 15\n",
      "- Estimated fold sizes -> train: 16990, val: 2427, test 4854\n",
      "- Final fold sizes -> train: 16993, val: 2428, test 4851\n",
      "Generating fold 16\n",
      "- Estimated fold sizes -> train: 16990, val: 2427, test 4854\n",
      "- Final fold sizes -> train: 16998, val: 2428, test 4846\n",
      "Generating fold 17\n",
      "- Estimated fold sizes -> train: 16990, val: 2427, test 4854\n",
      "- Final fold sizes -> train: 16991, val: 2428, test 4853\n",
      "Generating fold 18\n",
      "- Estimated fold sizes -> train: 16990, val: 2427, test 4854\n",
      "- Final fold sizes -> train: 16992, val: 2437, test 4843\n",
      "Generating fold 19\n",
      "- Estimated fold sizes -> train: 16990, val: 2427, test 4854\n",
      "- Final fold sizes -> train: 16993, val: 2428, test 4851\n",
      "*****************************************************************\n",
      "Saving folds for **F** to : ./experiments/all_pathologies_20_runs_no_healty/\n",
      "*****************************************************************\n",
      "\n",
      "Generating fold 0\n",
      "- Estimated fold sizes -> train: 15579, val: 2225, test 4451\n",
      "- Final fold sizes -> train: 15585, val: 2227, test 4445\n",
      "Generating fold 1\n",
      "- Estimated fold sizes -> train: 15579, val: 2225, test 4451\n",
      "- Final fold sizes -> train: 15582, val: 2226, test 4449\n",
      "Generating fold 2\n",
      "- Estimated fold sizes -> train: 15579, val: 2225, test 4451\n",
      "- Final fold sizes -> train: 15580, val: 2227, test 4450\n",
      "Generating fold 3\n",
      "- Estimated fold sizes -> train: 15579, val: 2225, test 4451\n",
      "- Final fold sizes -> train: 15582, val: 2226, test 4449\n",
      "Generating fold 4\n",
      "- Estimated fold sizes -> train: 15579, val: 2225, test 4451\n",
      "- Final fold sizes -> train: 15580, val: 2226, test 4451\n",
      "Generating fold 5\n",
      "- Estimated fold sizes -> train: 15579, val: 2225, test 4451\n",
      "- Final fold sizes -> train: 15580, val: 2226, test 4451\n",
      "Generating fold 6\n",
      "- Estimated fold sizes -> train: 15579, val: 2225, test 4451\n",
      "- Final fold sizes -> train: 15584, val: 2229, test 4444\n",
      "Generating fold 7\n",
      "- Estimated fold sizes -> train: 15579, val: 2225, test 4451\n",
      "- Final fold sizes -> train: 15580, val: 2226, test 4451\n",
      "Generating fold 8\n",
      "- Estimated fold sizes -> train: 15579, val: 2225, test 4451\n",
      "- Final fold sizes -> train: 15580, val: 2227, test 4450\n",
      "Generating fold 9\n",
      "- Estimated fold sizes -> train: 15579, val: 2225, test 4451\n",
      "- Final fold sizes -> train: 15588, val: 2229, test 4440\n",
      "Generating fold 10\n",
      "- Estimated fold sizes -> train: 15579, val: 2225, test 4451\n",
      "- Final fold sizes -> train: 15595, val: 2226, test 4436\n",
      "Generating fold 11\n",
      "- Estimated fold sizes -> train: 15579, val: 2225, test 4451\n",
      "- Final fold sizes -> train: 15580, val: 2226, test 4451\n",
      "Generating fold 12\n",
      "- Estimated fold sizes -> train: 15579, val: 2225, test 4451\n",
      "- Final fold sizes -> train: 15580, val: 2227, test 4450\n",
      "Generating fold 13\n",
      "- Estimated fold sizes -> train: 15579, val: 2225, test 4451\n",
      "- Final fold sizes -> train: 15581, val: 2226, test 4450\n",
      "Generating fold 14\n",
      "- Estimated fold sizes -> train: 15579, val: 2225, test 4451\n",
      "- Final fold sizes -> train: 15582, val: 2227, test 4448\n",
      "Generating fold 15\n",
      "- Estimated fold sizes -> train: 15579, val: 2225, test 4451\n",
      "- Final fold sizes -> train: 15581, val: 2226, test 4450\n",
      "Generating fold 16\n",
      "- Estimated fold sizes -> train: 15579, val: 2225, test 4451\n",
      "- Final fold sizes -> train: 15581, val: 2228, test 4448\n",
      "Generating fold 17\n",
      "- Estimated fold sizes -> train: 15579, val: 2225, test 4451\n",
      "- Final fold sizes -> train: 15580, val: 2226, test 4451\n",
      "Generating fold 18\n",
      "- Estimated fold sizes -> train: 15579, val: 2225, test 4451\n",
      "- Final fold sizes -> train: 15581, val: 2226, test 4450\n",
      "Generating fold 19\n",
      "- Estimated fold sizes -> train: 15579, val: 2225, test 4451\n",
      "- Final fold sizes -> train: 15580, val: 2228, test 4449\n"
     ]
    }
   ],
   "source": [
    "import os\n",
    "from sklearn.utils import shuffle\n",
    "\n",
    "def ensureDir(f):\n",
    "    d = os.path.dirname(f)\n",
    "    if not os.path.exists(d):\n",
    "        os.makedirs(d)\n",
    "\n",
    "def generate_train_val_test_filtering_by(data_orig, col_filter=\"Patient ID\", \n",
    "                                         train_perc=0.7, val_perc = 0.1, test_perc=0.2):\n",
    "    data_aux = data_orig.copy()\n",
    "    \n",
    "    train_num = len(data_aux) * train_perc\n",
    "    val_num = len(data_aux) * val_perc\n",
    "    test_num = len(data_aux) * test_perc\n",
    "    \n",
    "    print(\"- Estimated fold sizes -> train: %i, val: %i, test %i\"%(train_num, val_num, test_num))\n",
    "    train_count, val_count, test_count = 0, 0, 0\n",
    "    \n",
    "    train_df = pd.DataFrame(columns=data_aux.columns)\n",
    "    val_df = pd.DataFrame(columns=data_aux.columns)\n",
    "    test_df = pd.DataFrame(columns=data_aux.columns)\n",
    "    \n",
    "    while (len(train_df) < train_num) & (len(data_aux) > 0):\n",
    "        # Choose a random \"col_filter\" selected_col_fiter\n",
    "        choosen = data_aux.sample(n=1).iloc[0][col_filter]\n",
    "        \n",
    "        # Filter the rows containing choosen\n",
    "        choosen_rows = data_aux[data_aux[col_filter] == choosen]\n",
    "        # Add this rows to training\n",
    "        train_df = train_df.append(choosen_rows)\n",
    "\n",
    "        # Remove the rows from data\n",
    "        data_aux = data_aux.drop(choosen_rows.index)\n",
    "        \n",
    "    while (len(val_df) < val_num) & (len(data_aux) > 0):\n",
    "        # Choose a random \"col_filter\" selected_col_fiter\n",
    "        choosen = data_aux.sample(n=1).iloc[0][col_filter]\n",
    "        \n",
    "        # Filter the rows containing choosen\n",
    "        choosen_rows = data_aux[data_aux[col_filter] == choosen]\n",
    "        \n",
    "        # Add this rows to training\n",
    "        val_df = val_df.append(choosen_rows)\n",
    "\n",
    "        # Remove the rows from data\n",
    "        data_aux = data_aux.drop(choosen_rows.index)\n",
    "        \n",
    "    test_df = data_aux.copy()\n",
    "    \n",
    "    print(\"- Final fold sizes -> train: %i, val: %i, test %i\"%(len(train_df), len(val_df), len(test_df)))\n",
    "    \n",
    "    return train_df, val_df, test_df  \n",
    "    \n",
    "def generate_gender_fold(g, data_local, root_dir, runs=5):\n",
    "\n",
    "    print (\"*****************************************************************\")\n",
    "    print (\"Saving folds for **\" + g + \"** to : \" + root_dir)\n",
    "    print (\"*****************************************************************\\n\")\n",
    "\n",
    "    ensureDir(root_dir)\n",
    "\n",
    "    # Separo por genero\n",
    "    data_filtered = data_local[data_local['Patient Gender'] == g]\n",
    "\n",
    "    gender_dir = os.path.join(root_dir, g)\n",
    "    ensureDir(gender_dir)\n",
    "    \n",
    "    for i in range(runs):\n",
    "        print (\"Generating fold \" + str(i))\n",
    "        run_dir = os.path.join(root_dir, g +\"/run_\" + str(i) + \"/\")\n",
    "        ensureDir(run_dir)\n",
    "\n",
    "        tr, val, tst = generate_train_val_test_filtering_by(data_filtered, col_filter=\"Patient ID\", \n",
    "                                         train_perc=0.7, val_perc = 0.1, test_perc=0.2)\n",
    "        \n",
    "        tr.to_csv(os.path.join(run_dir, \"train.csv\"), sep=',')\n",
    "        val.to_csv(os.path.join(run_dir, \"dev.csv\"), sep=',')\n",
    "        tst.to_csv(os.path.join(run_dir, \"test.csv\"), sep=',')\n",
    "        \n",
    "###### SCRIPT #######\n",
    "\n",
    "root_dir = \"./experiments/all_pathologies_20_runs_no_healty/\"\n",
    "\n",
    "generate_gender_fold(\"M\",data_final, root_dir, runs=20)\n",
    "generate_gender_fold(\"F\",data_final, root_dir, runs=20)\n",
    "\n",
    "\n"
   ]
  },
  {
   "cell_type": "markdown",
   "metadata": {},
   "source": [
    "# Método para reducir la cantidad de imagenes procentualmente"
   ]
  },
  {
   "cell_type": "code",
   "execution_count": 54,
   "metadata": {},
   "outputs": [
    {
     "name": "stdout",
     "output_type": "stream",
     "text": [
      "Before\n",
      "21508\n",
      "3075\n",
      "6140\n",
      "After\n",
      "10754\n",
      "1537\n",
      "3070\n",
      "\n",
      "\n",
      "Before\n",
      "21507\n",
      "3073\n",
      "6143\n",
      "After\n",
      "10753\n",
      "1536\n",
      "3071\n",
      "\n",
      "\n",
      "Before\n",
      "21515\n",
      "3073\n",
      "6135\n",
      "After\n",
      "10757\n",
      "1536\n",
      "3067\n",
      "\n",
      "\n",
      "Before\n",
      "21508\n",
      "3073\n",
      "6142\n",
      "After\n",
      "10754\n",
      "1536\n",
      "3071\n",
      "\n",
      "\n",
      "Before\n",
      "21507\n",
      "3075\n",
      "6141\n",
      "After\n",
      "10753\n",
      "1537\n",
      "3070\n",
      "\n",
      "\n",
      "Before\n",
      "21508\n",
      "3075\n",
      "6140\n",
      "After\n",
      "10754\n",
      "1537\n",
      "3070\n",
      "\n",
      "\n",
      "Before\n",
      "21507\n",
      "3073\n",
      "6143\n",
      "After\n",
      "10753\n",
      "1536\n",
      "3071\n",
      "\n",
      "\n",
      "Before\n",
      "21515\n",
      "3073\n",
      "6135\n",
      "After\n",
      "10757\n",
      "1536\n",
      "3067\n",
      "\n",
      "\n",
      "Before\n",
      "21508\n",
      "3073\n",
      "6142\n",
      "After\n",
      "10754\n",
      "1536\n",
      "3071\n",
      "\n",
      "\n",
      "Before\n",
      "21507\n",
      "3075\n",
      "6141\n",
      "After\n",
      "10753\n",
      "1537\n",
      "3070\n",
      "\n",
      "\n"
     ]
    }
   ],
   "source": [
    "from sklearn.metrics import roc_auc_score , f1_score\n",
    "from sklearn.model_selection import train_test_split\n",
    "\n",
    "import matplotlib.pyplot as plt\n",
    "import pandas as pd\n",
    "import seaborn as sns\n",
    "import numpy as np\n",
    "\n",
    "Ills=['Atelectasis','Cardiomegaly','Effusion','Infiltration','Mass','Nodule','Pneumonia','Pneumothorax','Consolidation','Edema','Emphysema','Fibrosis','Pleural_Thickening','Hernia']\n",
    "\n",
    "old_output_dir = './experiments/all_pathologies/'\n",
    "new_output_dir = \"./experiments/all_pathologies_05_test_1/\"\n",
    "\n",
    "genders_train=['F']\n",
    "genders_test=['F','M']\n",
    "\n",
    "def remove_perc(data, perc=0.5):\n",
    "    index=range(len(data))\n",
    "    data_keep, _ = train_test_split(index, test_size = 1. - perc)\n",
    "    return data.iloc[data_keep]\n",
    "\n",
    "for gender_train in genders_train:\n",
    "    for gender_test in genders_test:\n",
    "\n",
    "        for fold in range(5):\n",
    "            # Busco los datos las predicciones y las etiquetas de salida\n",
    "                       \n",
    "            read_dir= old_output_dir +gender_train+'/run_'+str(fold)+'/'\n",
    "            write_dir = new_output_dir+gender_train+'/run_'+str(fold)+'/'\n",
    "\n",
    "            train_file = pd.read_csv(os.path.join(read_dir, \"train.csv\"))\n",
    "            val_file = pd.read_csv(os.path.join(read_dir, \"dev.csv\"))\n",
    "            test_file = pd.read_csv(os.path.join(read_dir, \"test.csv\"))\n",
    "            \n",
    "            print(\"Before\")\n",
    "            print(len(train_file))\n",
    "            print(len(val_file))\n",
    "            print(len(test_file))\n",
    "            print(\"After\")\n",
    "            \n",
    "            train_keep = remove_perc(train_file, 0.5)\n",
    "            val_keep = remove_perc(val_file, 0.5)\n",
    "            test_keep = remove_perc(test_file, 0.5)\n",
    "            \n",
    "            print(len(train_keep))\n",
    "            print(len(val_keep))\n",
    "            print(len(test_keep))\n",
    "            print(\"\\n\")\n",
    "            \n",
    "            ensureDir(write_dir)\n",
    "\n",
    "            train_keep.to_csv(os.path.join(write_dir,\"train.csv\"), sep=',')\n",
    "            val_keep.to_csv(os.path.join(write_dir,\"dev.csv\"), sep=',')\n",
    "            test_keep.to_csv(os.path.join(write_dir,\"test.csv\"), sep=',')\n",
    "\n",
    "            "
   ]
  },
  {
   "cell_type": "code",
   "execution_count": 31,
   "metadata": {},
   "outputs": [
    {
     "name": "stdout",
     "output_type": "stream",
     "text": [
      "('Desbalance M/F en General ', 1.0955737116178847)\n",
      "('Desbalance M/F en', 'Hernia', 1.0491803278688525)\n",
      "('Desbalance M/F en', 'Pneumonia', 1.1507177033492824)\n",
      "('Desbalance M/F en', 'Fibrosis', 1.0513307984790874)\n",
      "('Desbalance M/F en', 'Emphysema', 1.3300970873786409)\n",
      "('Desbalance M/F en', 'Edema', 1.133159268929504)\n",
      "('Desbalance M/F en', 'Cardiomegaly', 0.9041533546325878)\n",
      "('Desbalance M/F en', 'Pleural_Thickening', 1.216796875)\n",
      "('Desbalance M/F en', 'Consolidation', 1.1604938271604939)\n",
      "('Desbalance M/F en', 'Mass', 1.2164502164502164)\n",
      "('Desbalance M/F en', 'Pneumothorax', 0.7095238095238096)\n",
      "('Desbalance M/F en', 'Nodule', 1.1346153846153846)\n",
      "('Desbalance M/F en', 'Atelectasis', 1.2510121457489878)\n",
      "('Desbalance M/F en', 'Effusion', 1.0341207349081365)\n",
      "('Desbalance M/F en', 'Infiltration', 1.109251101321586)\n"
     ]
    }
   ],
   "source": [
    "# Desbalances de género\n",
    "N_males=float(len(males))\n",
    "N_females=float(len(females))\n",
    "print('Desbalance M/F en General ',(N_males)/(N_females))\n",
    "\n",
    "data_female_i=data_ill[data_ill['Patient Gender'] == 'F']\n",
    "data_male_i=data_ill[data_ill['Patient Gender'] == 'M']\n",
    "\n",
    "for ill in illness:\n",
    "    \n",
    "        # Encuentro la cantidad de mujeres con esta enfermedad  \n",
    "        data_faux=data_female_i[data_female_i[ill] == 1]\n",
    "        canf=float(len(data_faux))\n",
    "        # Encuentro la cantidad de hombres con esta enfermedad\n",
    "        data_maux=data_male_i[data_male_i[ill] == 1]\n",
    "        canm=float(len(data_maux))\n",
    "        \n",
    "        print('Desbalance M/F en' ,ill, (canm)/(canf))"
   ]
  },
  {
   "cell_type": "markdown",
   "metadata": {},
   "source": [
    "#  Guardado de archivos"
   ]
  },
  {
   "cell_type": "code",
   "execution_count": 32,
   "metadata": {},
   "outputs": [
    {
     "name": "stdout",
     "output_type": "stream",
     "text": [
      "8756\n",
      "9193\n",
      "6303\n",
      "701\n",
      "1752\n",
      "6303\n",
      "701\n",
      "1752\n",
      "6303\n",
      "701\n",
      "1752\n",
      "6303\n",
      "701\n",
      "1752\n",
      "6303\n",
      "701\n",
      "1752\n"
     ]
    }
   ],
   "source": [
    "from sklearn.model_selection import train_test_split\n",
    "from sklearn.utils import shuffle\n",
    "import os\n",
    "\n",
    "def ensure_dir(directory):\n",
    "    if not os.path.exists(directory):\n",
    "        os.makedirs(directory)\n",
    "     \n",
    "    \n",
    "\n",
    "data_female=data_final[data_final['Patient Gender'] == 'F']\n",
    "data_male=data_final[data_final['Patient Gender'] == 'M'] \n",
    "\n",
    "index=range(len(data_female))\n",
    "\n",
    "\n",
    "print(len(data_female))\n",
    "print(len(data_male))\n",
    "\n",
    "for i in range(5):  #plt.xticks((names))\n",
    "\n",
    "    # Genero los indices de train test y validacion\n",
    "    idx_train, idx_test = train_test_split(index, test_size=0.2, random_state=i)\n",
    "    idx_train, idx_val = train_test_split(idx_train, test_size=0.1, random_state=i)\n",
    "    \n",
    "    \n",
    "    print(len(idx_train))\n",
    "    print(len(idx_val))\n",
    "    print(len(idx_test))\n",
    "    \n",
    "    # Randomizo los datos\n",
    "    data_female=shuffle(data_female)\n",
    "    data_male=shuffle(data_male)    \n",
    "    \n",
    "    # Separo los conjuntos\n",
    "    train_male= (data_male.iloc[idx_train])\n",
    "    val_male= (data_male.iloc[idx_val])\n",
    "    test_male= (data_male.iloc[idx_test])      \n",
    "    # Separo los conjuntos\n",
    "    train_female= (data_female.iloc[idx_train])\n",
    "    val_female= (data_female.iloc[idx_val])\n",
    "    test_female= (data_female.iloc[idx_test])               \n",
    "    \n",
    "    # Guardo los conjuntos generados\n",
    "    save_dirm=\"./experiments/paper/f\"+str(i)+\"_male/\"\n",
    "    save_dirf=\"./experiments/paper/f\"+str(i)+\"_female/\"\n",
    "    ensure_dir(save_dirm)\n",
    "    ensure_dir(save_dirf)\n",
    "    train_male.to_csv(save_dirm+\"train.csv\", sep=',')\n",
    "    train_female.to_csv(save_dirf+\"train.csv\", sep=',')\n",
    "    val_male.to_csv(save_dirm+\"dev.csv\", sep=',')\n",
    "    val_female.to_csv(save_dirf+\"dev.csv\", sep=',')\n",
    "    test_male.to_csv(save_dirm+\"test.csv\", sep=',')\n",
    "    test_female.to_csv(save_dirf+\"test.csv\", sep=',')"
   ]
  },
  {
   "cell_type": "markdown",
   "metadata": {},
   "source": [
    "# Generar Modelos"
   ]
  },
  {
   "cell_type": "code",
   "execution_count": 36,
   "metadata": {},
   "outputs": [],
   "source": [
    "import csv \n",
    "import os\n",
    "import numpy as np\n",
    "import matplotlib.pyplot as plt\n",
    "from sklearn.model_selection import train_test_split\n",
    "from sklearn.utils import shuffle\n",
    "import pandas as pd\n",
    "\n",
    "def ensure_dir(directory):\n",
    "    if not os.path.exists(directory):\n",
    "        os.makedirs(directory)\n",
    "\n",
    "def save_files(archivo,fold):\n",
    "   \n",
    "\n",
    "    output_dir= \"/home/alarrazabal/pc49/home/alarrazabal/DATOS/Code/bias/PaperCheXNet/experiments/paper/\"\n",
    "    \n",
    "    \n",
    "    data_f = output_dir+'f'+str(fold)+'_female/'+archivo+'.csv'\n",
    "    data_m = output_dir+'f'+str(fold)+'_male/'+archivo+'.csv'\n",
    "    \n",
    "    male=pd.read_csv(data_m)\n",
    "    female=pd.read_csv(data_f)\n",
    "       \n",
    "    index=range(len(male))\n",
    "\n",
    "    \n",
    "    for i in range(11): \n",
    "        \n",
    "        \n",
    "        if (i==0):\n",
    "            idx_train_male= index\n",
    "            idx_train_female=[]\n",
    "        elif i==10 :\n",
    "            idx_train_male=[]\n",
    "            idx_train_female=index\n",
    "        else:\n",
    "             \n",
    "            idx_train_male, idx_test = train_test_split(index, test_size=i/10.0, random_state=1)\n",
    "            idx_train_female, idx_test = train_test_split(index, test_size=1-(i/10.0), random_state=1)  \n",
    "\n",
    "       \n",
    "        archivo_male= shuffle(male.iloc[idx_train_male])\n",
    "        archivo_female= shuffle(female.iloc[idx_train_female])\n",
    "        archivo_data=shuffle(pd.concat([archivo_male,archivo_female]))    \n",
    "        \n",
    "        save_dir=output_dir+\"modelo_\"+str(fold)+\"/fold\"+str(i*10)+\"xciento_female/\"\n",
    "\n",
    "        ensure_dir(save_dir)\n",
    "        archivo_data.to_csv(save_dir+archivo+\".csv\", sep=',')\n",
    "        \n",
    "\n",
    "    \n",
    "archivos=[\"train\",\"test\",\"dev\"]\n",
    "   \n",
    "for fold in range (0,5):\n",
    "    \n",
    "    for archivo in archivos:    \n",
    "    \n",
    "        save_files(archivo,fold)"
   ]
  },
  {
   "cell_type": "markdown",
   "metadata": {},
   "source": [
    "# Analysis of test data balance "
   ]
  },
  {
   "cell_type": "code",
   "execution_count": 37,
   "metadata": {},
   "outputs": [
    {
     "data": {
      "image/png": "[encoded data removed]",
      "text/plain": [
       "<Figure size 360x360 with 1 Axes>"
      ]
     },
     "metadata": {
      "needs_background": "light"
     },
     "output_type": "display_data"
    },
    {
     "data": {
      "image/png": "[encoded data removed]",
      "text/plain": [
       "<Figure size 360x360 with 1 Axes>"
      ]
     },
     "metadata": {
      "needs_background": "light"
     },
     "output_type": "display_data"
    },
    {
     "data": {
      "image/png": "[encoded data removed]",
      "text/plain": [
       "<Figure size 360x360 with 1 Axes>"
      ]
     },
     "metadata": {
      "needs_background": "light"
     },
     "output_type": "display_data"
    },
    {
     "data": {
      "image/png": "[encoded data removed]",
      "text/plain": [
       "<Figure size 360x360 with 1 Axes>"
      ]
     },
     "metadata": {
      "needs_background": "light"
     },
     "output_type": "display_data"
    },
    {
     "data": {
      "image/png": "[encoded data removed]",
      "text/plain": [
       "<Figure size 360x360 with 1 Axes>"
      ]
     },
     "metadata": {
      "needs_background": "light"
     },
     "output_type": "display_data"
    },
    {
     "data": {
      "image/png": "[encoded data removed]",
      "text/plain": [
       "<Figure size 360x360 with 1 Axes>"
      ]
     },
     "metadata": {
      "needs_background": "light"
     },
     "output_type": "display_data"
    },
    {
     "data": {
      "image/png": "[encoded data removed]",
      "text/plain": [
       "<Figure size 360x360 with 1 Axes>"
      ]
     },
     "metadata": {
      "needs_background": "light"
     },
     "output_type": "display_data"
    },
    {
     "data": {
      "image/png": "[encoded data removed]",
      "text/plain": [
       "<Figure size 360x360 with 1 Axes>"
      ]
     },
     "metadata": {
      "needs_background": "light"
     },
     "output_type": "display_data"
    },
    {
     "data": {
      "image/png": "[encoded data removed]",
      "text/plain": [
       "<Figure size 360x360 with 1 Axes>"
      ]
     },
     "metadata": {
      "needs_background": "light"
     },
     "output_type": "display_data"
    },
    {
     "data": {
      "image/png": "[encoded data removed]",
      "text/plain": [
       "<Figure size 360x360 with 1 Axes>"
      ]
     },
     "metadata": {
      "needs_background": "light"
     },
     "output_type": "display_data"
    },
    {
     "data": {
      "image/png": "[encoded data removed]",
      "text/plain": [
       "<Figure size 360x360 with 1 Axes>"
      ]
     },
     "metadata": {
      "needs_background": "light"
     },
     "output_type": "display_data"
    },
    {
     "data": {
      "image/png": "[encoded data removed]",
      "text/plain": [
       "<Figure size 360x360 with 1 Axes>"
      ]
     },
     "metadata": {
      "needs_background": "light"
     },
     "output_type": "display_data"
    },
    {
     "data": {
      "image/png": "[encoded data removed]",
      "text/plain": [
       "<Figure size 360x360 with 1 Axes>"
      ]
     },
     "metadata": {
      "needs_background": "light"
     },
     "output_type": "display_data"
    },
    {
     "data": {
      "image/png": "[encoded data removed]",
      "text/plain": [
       "<Figure size 360x360 with 1 Axes>"
      ]
     },
     "metadata": {
      "needs_background": "light"
     },
     "output_type": "display_data"
    },
    {
     "data": {
      "image/png": "[encoded data removed]",
      "text/plain": [
       "<Figure size 360x360 with 1 Axes>"
      ]
     },
     "metadata": {
      "needs_background": "light"
     },
     "output_type": "display_data"
    }
   ],
   "source": [
    "d = pd.read_csv(\"/home/alarrazabal/pc49/home/alarrazabal/DATOS/Code/bias/PaperCheXNet/experiments/paper/f0_female/test.csv\")\n",
    "\n",
    "# Balance de Género por enfermedad\n",
    "for ill in illness:\n",
    "       g=sns.catplot(x=\"Patient Gender\", kind=\"count\", data=d[d[ill] == 1],col=ill)\n",
    "        \n",
    "g=sns.catplot(x=\"Patient Gender\", kind=\"count\", data=d[d['Finding Labels'] == 'No Finding'])\n"
   ]
  },
  {
   "cell_type": "code",
   "execution_count": 42,
   "metadata": {},
   "outputs": [],
   "source": [
    "import pandas as pd\n",
    "import seaborn as sns\n",
    "import numpy as np\n",
    "\n",
    "# Levanto la base de datos completa\n",
    "train = pd.read_csv('/media/eferrante/Data/Code/genderbias/CheXNet-Keras-enzo/experiments/all_pathologies/F/run_2/train.csv')\n",
    "test = pd.read_csv('/media/eferrante/Data/Code/genderbias/CheXNet-Keras-enzo/experiments/all_pathologies/F/run_2/test.csv')"
   ]
  },
  {
   "cell_type": "code",
   "execution_count": 41,
   "metadata": {},
   "outputs": [
    {
     "name": "stdout",
     "output_type": "stream",
     "text": [
      "Train: 21515\n",
      "Test: 6135\n",
      "0\n"
     ]
    }
   ],
   "source": [
    "print (\"Train: \" + str(len(train)))\n",
    "print (\"Test: \" + str(len(test)))\n",
    "\n",
    "filtered=test[test['Patient ID'].isin(train['Patient ID'])]\n",
    "\n",
    "print (len(filtered))\n",
    "\n"
   ]
  },
  {
   "cell_type": "code",
   "execution_count": null,
   "metadata": {},
   "outputs": [],
   "source": []
  }
 ],
 "metadata": {
  "kernelspec": {
   "display_name": "Python 3",
   "language": "python",
   "name": "python3"
  },
  "language_info": {
   "codemirror_mode": {
    "name": "ipython",
    "version": 2
   },
   "file_extension": ".py",
   "mimetype": "text/x-python",
   "name": "python",
   "nbconvert_exporter": "python",
   "pygments_lexer": "ipython2",
   "version": "2.7.16"
  }
 },
 "nbformat": 4,
 "nbformat_minor": 2
}
